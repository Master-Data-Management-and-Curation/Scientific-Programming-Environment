{
 "cells": [
  {
   "cell_type": "markdown",
   "id": "8be747dd-b7d6-434b-ac4d-52bf11289866",
   "metadata": {},
   "source": [
    "# More on lists\n",
    "\n",
    "### Selecting slices:\n",
    "\n",
    "You can use slicing to select a portion of a list. The syntax is `start:stop` (stop is excluded):"
   ]
  },
  {
   "cell_type": "code",
   "execution_count": null,
   "id": "8e7721db-7b11-4b34-ae58-749cf499101e",
   "metadata": {},
   "outputs": [],
   "source": [
    "mylist = [1, 5, 3, 7, 5, 6, 4, 5]\n",
    "print(\"Select a slice: \", mylist[3:6]) \n",
    "print(\"Implicit end: \", mylist[3:])    \n",
    "print(\"Implicit start: \", mylist[:6])  "
   ]
  },
  {
   "cell_type": "markdown",
   "id": "42630f75-537d-44bc-a4da-b2bcb41186ce",
   "metadata": {},
   "source": [
    "### Negative Indexing:\n",
    "You can access list elements from the end using negative indices:"
   ]
  },
  {
   "cell_type": "code",
   "execution_count": null,
   "id": "5fb81cc7-2f57-438b-96cf-2aeb979b747f",
   "metadata": {},
   "outputs": [],
   "source": [
    "print(mylist[-1])"
   ]
  },
  {
   "cell_type": "markdown",
   "id": "2c91fe3b-6f26-42b2-9f96-5a37625eed66",
   "metadata": {},
   "source": [
    "### Appending Elements:\n",
    "You can add elements to a list using the `append()` method:"
   ]
  },
  {
   "cell_type": "code",
   "execution_count": null,
   "id": "e66ac789-da24-4b96-9d1c-69d4617a853b",
   "metadata": {},
   "outputs": [],
   "source": [
    "empty_list = []\n",
    "empty_list.append(4)\n",
    "empty_list.append(7)\n",
    "empty_list.append(34)\n",
    "empty_list.append(22)\n",
    "empty_list.append(-4)\n",
    "print(empty_list)"
   ]
  },
  {
   "cell_type": "markdown",
   "id": "582f0d2f-d654-4f31-8d96-30f86b98e907",
   "metadata": {},
   "source": [
    "### Sorting a List:\n",
    "Use the `sort()` method to sort elements in ascending order:"
   ]
  },
  {
   "cell_type": "code",
   "execution_count": null,
   "id": "b6aa9315-3c0e-4060-9256-0f5f3106a7c6",
   "metadata": {},
   "outputs": [],
   "source": [
    "unsorted_list = [4, 7, 34, 22, -4]\n",
    "unsorted_list.sort()\n",
    "print(unsorted_list)"
   ]
  },
  {
   "cell_type": "markdown",
   "id": "9cc41379-af20-4676-bb04-bd5e494e2f33",
   "metadata": {},
   "source": [
    "### Reversing a List:\n",
    "You can reverse the order of elements using the `reverse()` method:"
   ]
  },
  {
   "cell_type": "code",
   "execution_count": null,
   "id": "4e7e6d57-280c-411d-8904-e7d3616f20a9",
   "metadata": {},
   "outputs": [],
   "source": [
    "mylist = [4, 7, 34, 22, -4]\n",
    "mylist.reverse()\n",
    "print(mylist)"
   ]
  },
  {
   "cell_type": "markdown",
   "id": "a3f6cea5-1cdb-42b4-b2e0-9ee696dd1391",
   "metadata": {},
   "source": [
    "### Nested Lists:\n",
    "Lists can contain other lists (nested lists). For example:"
   ]
  },
  {
   "cell_type": "code",
   "execution_count": null,
   "id": "bf3dc391-9cb0-410a-939d-b380e89807f0",
   "metadata": {},
   "outputs": [],
   "source": [
    "nested = [[1, 2, 3], [4, 5, 6], [7, 8, 9]]\n",
    "print(nested)"
   ]
  },
  {
   "cell_type": "markdown",
   "id": "cd2d2573-2dde-435a-87e0-f7b8421bd88c",
   "metadata": {},
   "source": [
    "### Accessing Elements in Nested Lists:\n",
    "You can access elements of nested lists like this:"
   ]
  },
  {
   "cell_type": "code",
   "execution_count": null,
   "id": "ae291dd3-3eb3-4479-88d9-56756dc43578",
   "metadata": {},
   "outputs": [],
   "source": [
    "print(\"First nested list:\", nested[0])  \n",
    "print(\"Second nested list:\", nested[1])  "
   ]
  },
  {
   "cell_type": "markdown",
   "id": "95299844-98da-473e-bb78-da2d285af507",
   "metadata": {},
   "source": [
    "\n",
    "For more details, see the [official Python documentation on lists](https://docs.python.org/3/tutorial/datastructures.html#more-on-lists).\n",
    "\n",
    "## List exercises\n",
    "\n",
    "[Python List Exercises](https://pynative.com/python-list-exercise-with-solutions/).\n"
   ]
  },
  {
   "cell_type": "markdown",
   "id": "4bab676c-8d4f-4d11-90d9-ae80902bc835",
   "metadata": {},
   "source": [
    "# Dictionary\n",
    "\n",
    "### Empty Dictionary Example:\n",
    "You can create an empty dictionary like this:"
   ]
  },
  {
   "cell_type": "code",
   "execution_count": null,
   "id": "5b2fe204-6d14-4410-983f-1cae5701408c",
   "metadata": {},
   "outputs": [],
   "source": [
    "empty_dict = {}"
   ]
  },
  {
   "cell_type": "markdown",
   "id": "25335e1e-46c3-47a1-9d28-46f055c05053",
   "metadata": {},
   "source": [
    "### Creating a Dictionary with Key-Value Pairs:\n",
    "Dictionaries store data in `key: value` pairs. You can retrieve values using keys, unlike lists where you access items by their index:\n"
   ]
  },
  {
   "cell_type": "code",
   "execution_count": null,
   "id": "abcc3686-f604-4c91-abdb-6c79fd52a872",
   "metadata": {},
   "outputs": [],
   "source": [
    "sample_dict = {\"first\": 3, \"second\": 88, \"third\": 123}\n",
    "print(sample_dict)"
   ]
  },
  {
   "cell_type": "markdown",
   "id": "db2fea49-7d92-4e49-a98c-c0c90feaa39c",
   "metadata": {},
   "source": [
    "### Accessing Values by Key:\n",
    "To get a value, use its key:"
   ]
  },
  {
   "cell_type": "code",
   "execution_count": null,
   "id": "4fb3441d-a2e6-48b5-8ab7-028b681d53a3",
   "metadata": {},
   "outputs": [],
   "source": [
    "print(sample_dict[\"second\"])  # Output: 88\n",
    "print(sample_dict[\"third\"])   # Output: 123"
   ]
  },
  {
   "cell_type": "markdown",
   "id": "366fc818-a8a2-476e-9e2c-99f036f412fd",
   "metadata": {},
   "source": [
    "### Adding New Key-Value Pairs:\n",
    "\n",
    "You can add new pairs to the dictionary like this:\n"
   ]
  },
  {
   "cell_type": "code",
   "execution_count": null,
   "id": "2245fab2-f289-44ac-985e-314b4107b0b9",
   "metadata": {},
   "outputs": [],
   "source": [
    "sample_dict[\"last\"] = 999\n",
    "print(sample_dict)"
   ]
  },
  {
   "cell_type": "markdown",
   "id": "dadb5937-0a3b-4a32-ac86-1c67d07abdb3",
   "metadata": {},
   "source": [
    "### Iterating Through Dictionary Keys:\n",
    "To iterate through dictionary keys:"
   ]
  },
  {
   "cell_type": "code",
   "execution_count": null,
   "id": "637e1862-f854-49e4-8661-002de4d93042",
   "metadata": {},
   "outputs": [],
   "source": [
    "for key in sample_dict:\n",
    "    print(key)"
   ]
  },
  {
   "cell_type": "markdown",
   "id": "c2505e35-be9a-4007-a3b2-5b655e557d72",
   "metadata": {},
   "source": [
    "### Iterating Through Key-Value Pairs:\n",
    "You can retrieve both the key and value as a tuple:"
   ]
  },
  {
   "cell_type": "code",
   "execution_count": null,
   "id": "b89a7b11-14b0-49d9-8597-4d81bd7fb249",
   "metadata": {},
   "outputs": [],
   "source": [
    "for item in sample_dict.items():\n",
    "    print(f\"Tuple: {item}\")\n",
    "    print(f\"Key: {item[0]}, Value: {item[1]}\\n\")"
   ]
  },
  {
   "cell_type": "markdown",
   "id": "90e2d78e-290b-4440-b557-ea9188a010c1",
   "metadata": {},
   "source": [
    "### Unpacking Key-Value Pairs Directly:\n",
    "Instead of accessing tuple elements, you can unpack them directly:"
   ]
  },
  {
   "cell_type": "code",
   "execution_count": null,
   "id": "b58a9d32-bb8c-4fda-934c-afe69a1d4cc3",
   "metadata": {},
   "outputs": [],
   "source": [
    "for key, value in sample_dict.items():\n",
    "    print(f\"Key: {key}, Value: {value}\")"
   ]
  },
  {
   "cell_type": "markdown",
   "id": "4617684f-3003-42ca-a62c-afa37947ec71",
   "metadata": {},
   "source": [
    "For more details, see the [official Python documentation on dictionaries](https://docs.python.org/3/tutorial/datastructures.html#dictionaries).\n",
    "\n",
    "## Dictionary exercises\n",
    "\n",
    "[Python Dictionary Exercises](https://pynative.com/python-dictionary-exercise-with-solutions/).\n"
   ]
  },
  {
   "cell_type": "markdown",
   "id": "3bed89bc-6cab-4adb-8c7e-5c7fca3f06a8",
   "metadata": {},
   "source": [
    "# Numpy 101\n",
    "### Importing Numpy:\n",
    "Numpy is a library used for linear algebra and mathematical operations. Start by importing it:\n"
   ]
  },
  {
   "cell_type": "code",
   "execution_count": null,
   "id": "afca955d-d1eb-43dd-8ad4-57af7fbdb90f",
   "metadata": {},
   "outputs": [],
   "source": [
    "import numpy as np"
   ]
  },
  {
   "cell_type": "markdown",
   "id": "77611529-b55d-4f8b-a740-0062c575ef0f",
   "metadata": {},
   "source": [
    "### Creating a Numpy Array:\n",
    "You can create a numpy array from a list:"
   ]
  },
  {
   "cell_type": "code",
   "execution_count": null,
   "id": "1c88b226-f4ca-4fbb-8030-1976ea2696a3",
   "metadata": {},
   "outputs": [],
   "source": [
    "a = np.array([1, 5, 2, 3, 4, 45])\n",
    "print(a)"
   ]
  },
  {
   "cell_type": "markdown",
   "id": "aadb68ee-d749-4f5a-a633-144529cd5c7c",
   "metadata": {},
   "source": [
    "### Array Operations:\n",
    "Numpy arrays support various algebraic operations, such as element-wise addition and scalar multiplication:"
   ]
  },
  {
   "cell_type": "code",
   "execution_count": null,
   "id": "cb230715-7cb5-42b0-bb27-e5ce5a2ec83c",
   "metadata": {},
   "outputs": [],
   "source": [
    "print(a * 10)\n",
    "print(a + 1)  \n",
    "print(a + a)"
   ]
  },
  {
   "cell_type": "markdown",
   "id": "c770b408-8650-427d-9ee1-f9a6f7f3376b",
   "metadata": {},
   "source": [
    "### Creating Matrices:\n",
    "You can create a matrix (2D array) using nested lists:"
   ]
  },
  {
   "cell_type": "code",
   "execution_count": null,
   "id": "dcbb5372-b5a3-4ba7-8c57-c7e2affd9aec",
   "metadata": {},
   "outputs": [],
   "source": [
    "matrix = np.array([[1, 2, 3], [4, 5, 6], [7, 8, 9], [10, 11, 12]])\n",
    "print(matrix)"
   ]
  },
  {
   "cell_type": "markdown",
   "id": "b0ece7c3-5e04-4e8a-b197-3a99191e889e",
   "metadata": {},
   "source": [
    "### Checking the Shape of an Array:\n",
    "To check the shape (dimensions) of an array or matrix:"
   ]
  },
  {
   "cell_type": "code",
   "execution_count": null,
   "id": "49546c97-7b97-4968-82de-2b4a769b5bc9",
   "metadata": {},
   "outputs": [],
   "source": [
    "print(matrix.shape)  # Output: (4, 3)"
   ]
  },
  {
   "cell_type": "markdown",
   "id": "e315e03c-2a2b-43fb-8601-e1d244a933ea",
   "metadata": {},
   "source": [
    "## Numpy exercises:\n",
    "[Python Numpy Exercises](https://pynative.com/python-numpy-exercise/)."
   ]
  },
  {
   "cell_type": "markdown",
   "id": "3dec17e0-7b42-4024-9990-a9dddf7b13a1",
   "metadata": {},
   "source": [
    "## Additional resources\n",
    "\n",
    "- Shaw, Zed. **Learn Python the Hard Way**. Pearson Education, 2024.\n",
    "- Ramalho, Luciano. **Fluent Python**.  O'Reilly Media, 2022.\n",
    "- [Python official doc](https://docs.python.org/3/)"
   ]
  },
  {
   "cell_type": "code",
   "execution_count": null,
   "id": "669b4df7-bfb8-4f8e-a856-6ece3288dd86",
   "metadata": {},
   "outputs": [],
   "source": []
  }
 ],
 "metadata": {
  "kernelspec": {
   "display_name": "Python 3 (ipykernel)",
   "language": "python",
   "name": "python3"
  },
  "language_info": {
   "codemirror_mode": {
    "name": "ipython",
    "version": 3
   },
   "file_extension": ".py",
   "mimetype": "text/x-python",
   "name": "python",
   "nbconvert_exporter": "python",
   "pygments_lexer": "ipython3",
   "version": "3.12.5"
  }
 },
 "nbformat": 4,
 "nbformat_minor": 5
}
