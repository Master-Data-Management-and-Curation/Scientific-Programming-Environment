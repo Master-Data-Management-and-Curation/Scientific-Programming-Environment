{
 "cells": [
  {
   "cell_type": "markdown",
   "id": "8be747dd-b7d6-434b-ac4d-52bf11289866",
   "metadata": {},
   "source": [
    "# Dictionary"
   ]
  },
  {
   "cell_type": "markdown",
   "id": "42630f75-537d-44bc-a4da-b2bcb41186ce",
   "metadata": {},
   "source": [
    "Empty dict example:"
   ]
  },
  {
   "cell_type": "code",
   "execution_count": 16,
   "id": "5fb81cc7-2f57-438b-96cf-2aeb979b747f",
   "metadata": {},
   "outputs": [],
   "source": [
    "empty_dict={}"
   ]
  },
  {
   "cell_type": "markdown",
   "id": "4acebdf2-c625-4df6-af7b-ba61e03b71df",
   "metadata": {},
   "source": [
    "Dictionary are used to store pair as `key:value`, you can retrive values by key, differently from list where you use a positional index:"
   ]
  },
  {
   "cell_type": "code",
   "execution_count": 17,
   "id": "10bf7b53-b34f-411d-b6af-90d13358dd98",
   "metadata": {},
   "outputs": [
    {
     "name": "stdout",
     "output_type": "stream",
     "text": [
      "{'first': 3, 'second': 88, 'third': 123}\n"
     ]
    }
   ],
   "source": [
    "sample_dict={\"first\":3, \"second\":88, \"third\":123}\n",
    "print(sample_dict)"
   ]
  },
  {
   "cell_type": "code",
   "execution_count": 18,
   "id": "bde93a36-1e8f-45f7-9556-a8b3c7892d30",
   "metadata": {},
   "outputs": [
    {
     "name": "stdout",
     "output_type": "stream",
     "text": [
      "88\n",
      "123\n"
     ]
    }
   ],
   "source": [
    "print(sample_dict[\"second\"])\n",
    "print(sample_dict[\"third\"])"
   ]
  },
  {
   "cell_type": "markdown",
   "id": "f64bfeae-ac1d-4211-80da-e6d9209dbdd0",
   "metadata": {},
   "source": [
    "And you can insert new `value` with a new `key`:"
   ]
  },
  {
   "cell_type": "code",
   "execution_count": 19,
   "id": "2c83675f-4eb5-4309-9352-1ea4f940a438",
   "metadata": {},
   "outputs": [],
   "source": [
    "sample_dict[\"last\"]=999"
   ]
  },
  {
   "cell_type": "code",
   "execution_count": 21,
   "id": "4b5157aa-c1dd-4ebc-ad2e-691c194227cf",
   "metadata": {},
   "outputs": [
    {
     "name": "stdout",
     "output_type": "stream",
     "text": [
      "{'first': 3, 'second': 88, 'third': 123, 'last': 999}\n"
     ]
    }
   ],
   "source": [
    "print(sample_dict)"
   ]
  },
  {
   "cell_type": "code",
   "execution_count": null,
   "id": "9e7acf0b-c143-40e8-a093-c86c3e4b5a03",
   "metadata": {},
   "outputs": [],
   "source": [
    "Is possible to iterate throught dictionaries and get the keys:"
   ]
  },
  {
   "cell_type": "code",
   "execution_count": 8,
   "id": "ea574be5-80b5-4033-970c-0f4f3679082a",
   "metadata": {},
   "outputs": [
    {
     "name": "stdout",
     "output_type": "stream",
     "text": [
      "first\n",
      "second\n",
      "third\n"
     ]
    }
   ],
   "source": [
    "for i in sample_dict:\n",
    "    print(i)"
   ]
  },
  {
   "cell_type": "code",
   "execution_count": null,
   "id": "b585b8ae-7558-460d-a76d-2d3584f4ac27",
   "metadata": {},
   "outputs": [],
   "source": [
    "Or get the pair `key:value`"
   ]
  },
  {
   "cell_type": "code",
   "execution_count": 26,
   "id": "a1638c5c-c60a-4408-a849-5977c8ab8580",
   "metadata": {},
   "outputs": [
    {
     "name": "stdout",
     "output_type": "stream",
     "text": [
      "Print the tuple: ('first', 3)\n",
      "Print the single elements of the touple: first and 3\n",
      "\n",
      "Print the tuple: ('second', 88)\n",
      "Print the single elements of the touple: second and 88\n",
      "\n",
      "Print the tuple: ('third', 123)\n",
      "Print the single elements of the touple: third and 123\n",
      "\n",
      "Print the tuple: ('last', 999)\n",
      "Print the single elements of the touple: last and 999\n",
      "\n"
     ]
    }
   ],
   "source": [
    "for i in sample_dict.items():\n",
    "    print(f\"Print the tuple: {i}\")\n",
    "    print(f\"Print the single elements of the touple: {i[0]} and {i[1]}\\n\")"
   ]
  },
  {
   "cell_type": "markdown",
   "id": "23a53de0-ac87-410f-acd9-6f1e7d38c837",
   "metadata": {},
   "source": [
    "Or unpack the touple directly:"
   ]
  },
  {
   "cell_type": "code",
   "execution_count": 28,
   "id": "5c780a7c-31c8-4b38-b80d-9232800cc410",
   "metadata": {},
   "outputs": [
    {
     "name": "stdout",
     "output_type": "stream",
     "text": [
      "This is the key: first and this is the value: 3\n",
      "This is the key: second and this is the value: 88\n",
      "This is the key: third and this is the value: 123\n",
      "This is the key: last and this is the value: 999\n"
     ]
    }
   ],
   "source": [
    "for key,value in sample_dict.items():\n",
    "    print(f\"This is the key: {key} and this is the value: {value}\")"
   ]
  },
  {
   "cell_type": "code",
   "execution_count": null,
   "id": "04366dab-f281-4669-a3bd-48d35c640267",
   "metadata": {},
   "outputs": [],
   "source": [
    "See https://docs.python.org/3/tutorial/datastructures.html#dictionaries for more details."
   ]
  },
  {
   "cell_type": "code",
   "execution_count": null,
   "id": "43723d8b-7f54-48ae-8973-237cec89970c",
   "metadata": {},
   "outputs": [],
   "source": [
    "Exercies: https://pynative.com/python-dictionary-exercise-with-solutions/"
   ]
  },
  {
   "cell_type": "code",
   "execution_count": null,
   "id": "fc4bfe09-4102-4ce2-affd-5cea8091415c",
   "metadata": {},
   "outputs": [],
   "source": []
  },
  {
   "cell_type": "code",
   "execution_count": 15,
   "id": "580809f2-d367-4809-bac1-161a2c71a51c",
   "metadata": {},
   "outputs": [
    {
     "name": "stdout",
     "output_type": "stream",
     "text": [
      "this\n"
     ]
    }
   ],
   "source": [
    "print(s[0:4])"
   ]
  },
  {
   "cell_type": "markdown",
   "id": "57068a78-fcb1-4f7f-bc46-fb1d34a44689",
   "metadata": {},
   "source": [
    "# More on list\n",
    "\n",
    "See official docs: https://docs.python.org/3/tutorial/datastructures.html#more-on-lists\n",
    "\n",
    "You can select slice of list with the following notation `start:stop`, stop is excluded. If start ort stop are omitted, is implicit the beginning of the end."
   ]
  },
  {
   "cell_type": "code",
   "execution_count": 53,
   "id": "3f1c3ed0-805d-47fb-bb0d-cb70427d4c1b",
   "metadata": {},
   "outputs": [],
   "source": [
    "mylist=[1,5,3,7,5,6,4,5]"
   ]
  },
  {
   "cell_type": "code",
   "execution_count": 54,
   "id": "5dfabf6d-4fd4-4747-8489-37d1911a1df9",
   "metadata": {},
   "outputs": [
    {
     "name": "stdout",
     "output_type": "stream",
     "text": [
      "Select a slice:  [7, 5, 6]\n",
      "Implicit end:  [7, 5, 6, 4, 5]\n",
      "Implicit start:  [1, 5, 3, 7, 5, 6]\n"
     ]
    }
   ],
   "source": [
    "print(\"Select a slice: \",mylist[3:6])\n",
    "print(\"Implicit end: \",mylist[3:])\n",
    "print(\"Implicit start: \",mylist[:6])"
   ]
  },
  {
   "cell_type": "markdown",
   "id": "92d41258-83ec-44e0-9de1-4abf63cc8b1f",
   "metadata": {},
   "source": [
    "You can start indexing by end using negative indexes:"
   ]
  },
  {
   "cell_type": "code",
   "execution_count": 55,
   "id": "df4a22ea-fe9a-429b-9b83-3858b5303b7a",
   "metadata": {},
   "outputs": [
    {
     "data": {
      "text/plain": [
       "5"
      ]
     },
     "execution_count": 55,
     "metadata": {},
     "output_type": "execute_result"
    }
   ],
   "source": [
    "mylist[-1]"
   ]
  },
  {
   "cell_type": "markdown",
   "id": "41b8afdc-985f-4402-bf7b-d5fb597440f5",
   "metadata": {},
   "source": [
    "Append element to a list:"
   ]
  },
  {
   "cell_type": "code",
   "execution_count": 56,
   "id": "571a7229-6b39-4945-81c0-fed947ca7bfe",
   "metadata": {},
   "outputs": [
    {
     "name": "stdout",
     "output_type": "stream",
     "text": [
      "[4, 7, 34, 22, -4]\n"
     ]
    }
   ],
   "source": [
    "empty_list=[]\n",
    "empty_list.append(4)\n",
    "empty_list.append(7)\n",
    "empty_list.append(34)\n",
    "empty_list.append(22)\n",
    "empty_list.append(-4)\n",
    "print(empty_list)"
   ]
  },
  {
   "cell_type": "markdown",
   "id": "3be818f6-113f-4ea7-a414-9730ad223965",
   "metadata": {},
   "source": [
    "Sort element of a list:"
   ]
  },
  {
   "cell_type": "code",
   "execution_count": 57,
   "id": "78f4c2dc-55f3-4f81-bdd7-61fc5a8eac0c",
   "metadata": {},
   "outputs": [
    {
     "name": "stdout",
     "output_type": "stream",
     "text": [
      "[-4, 4, 7, 22, 34]\n"
     ]
    }
   ],
   "source": [
    "unsorted_list=[4, 7, 34, 22, -4]\n",
    "unsorted_list.sort()\n",
    "print(unsorted_list)"
   ]
  },
  {
   "cell_type": "markdown",
   "id": "a2dc1a67-66b9-4060-8174-fe33f1df35c8",
   "metadata": {},
   "source": [
    "Reverse the order of a list:"
   ]
  },
  {
   "cell_type": "code",
   "execution_count": 62,
   "id": "d5483ace-a119-45e1-a966-2cbf57d323db",
   "metadata": {},
   "outputs": [
    {
     "name": "stdout",
     "output_type": "stream",
     "text": [
      "[-4, 22, 34, 7, 4]\n"
     ]
    }
   ],
   "source": [
    "mylist=[4, 7, 34, 22, -4]\n",
    "mylist.reverse()\n",
    "print(mylist)"
   ]
  },
  {
   "cell_type": "markdown",
   "id": "7f96f197-ada5-4506-9911-9c8b7ca740f7",
   "metadata": {},
   "source": [
    "Nested list:"
   ]
  },
  {
   "cell_type": "code",
   "execution_count": 58,
   "id": "c2c7549b-d95f-4572-b72b-1dbfff9cc564",
   "metadata": {},
   "outputs": [
    {
     "name": "stdout",
     "output_type": "stream",
     "text": [
      "[[1, 2, 3], [4, 5, 6], [7, 8, 9]]\n"
     ]
    }
   ],
   "source": [
    "nested = [ [1,2,3], [4,5,6],[7,8,9]  ]\n",
    "print(nested)"
   ]
  },
  {
   "cell_type": "markdown",
   "id": "e22455e5-f7e2-426d-a9ca-a135b977f621",
   "metadata": {},
   "source": [
    "Access to the inner lists:"
   ]
  },
  {
   "cell_type": "code",
   "execution_count": 59,
   "id": "c7c0a8a2-3c8d-4af5-a6b4-9f7034789f1e",
   "metadata": {},
   "outputs": [
    {
     "name": "stdout",
     "output_type": "stream",
     "text": [
      "First nested: [1, 2, 3]\n",
      "Second nested: [4, 5, 6]\n"
     ]
    }
   ],
   "source": [
    "print(\"First nested:\" ,nested[0])\n",
    "print(\"Second nested:\" ,nested[1])\n"
   ]
  },
  {
   "cell_type": "markdown",
   "id": "17880042-ba6c-4081-8b52-ab4cf07d0f1a",
   "metadata": {},
   "source": [
    "# Exercies\n",
    "\n",
    "Try to solve this set of exercies on lists: https://pynative.com/python-list-exercise-with-solutions/ .\n",
    "\n"
   ]
  },
  {
   "cell_type": "markdown",
   "id": "2c57a98c-76d4-4fd5-818e-29481b9a3e21",
   "metadata": {},
   "source": [
    "# Numpy 101\n",
    "\n",
    "Numpy is a python library that is used to facilitate linear algebra operation.\n",
    "First of all import the numpy library:"
   ]
  },
  {
   "cell_type": "code",
   "execution_count": 64,
   "id": "5b5b33e0-203e-4c58-9c87-91a666ec9214",
   "metadata": {},
   "outputs": [],
   "source": [
    "import numpy as np"
   ]
  },
  {
   "cell_type": "markdown",
   "id": "9daa2a7f-cd97-405d-9bc0-ef1290f34045",
   "metadata": {},
   "source": [
    "And generate a numpy array starting from a list:\n"
   ]
  },
  {
   "cell_type": "code",
   "execution_count": 69,
   "id": "a164e800-1d6d-425e-bbd3-885700ad4ca4",
   "metadata": {},
   "outputs": [
    {
     "name": "stdout",
     "output_type": "stream",
     "text": [
      "[ 1  5  2  3  4 45]\n"
     ]
    }
   ],
   "source": [
    "a = np.array([1,5,2,3,4,45])\n",
    "print(a)"
   ]
  },
  {
   "cell_type": "markdown",
   "id": "3b5d03fb-67df-4dd7-8eb1-ef7b57ffef47",
   "metadata": {},
   "source": [
    "They are similar to lists, but support several algebra and maths operation:\n"
   ]
  },
  {
   "cell_type": "code",
   "execution_count": 73,
   "id": "2e658497-ae86-4e13-9e9d-9957bb639342",
   "metadata": {},
   "outputs": [
    {
     "name": "stdout",
     "output_type": "stream",
     "text": [
      "[ 10  50  20  30  40 450]\n",
      "[ 2  6  3  4  5 46]\n",
      "[ 2 10  4  6  8 90]\n"
     ]
    }
   ],
   "source": [
    "print(a*10) # product by scalar\n",
    "print(a+1) # elementwise addition\n",
    "print(a+a) # sum between array"
   ]
  },
  {
   "cell_type": "markdown",
   "id": "4e6e1165-7fdc-40fb-8a63-e237c37d1229",
   "metadata": {},
   "source": [
    "Using nested lists you can define matrices (2d array):"
   ]
  },
  {
   "cell_type": "code",
   "execution_count": 76,
   "id": "27f24b97-94ec-4200-9a5c-95ae5a8b86ef",
   "metadata": {},
   "outputs": [
    {
     "name": "stdout",
     "output_type": "stream",
     "text": [
      "[[ 1  2  3]\n",
      " [ 4  5  6]\n",
      " [ 7  8  9]\n",
      " [10 11 12]]\n"
     ]
    }
   ],
   "source": [
    "matrix=np.array([[1,2,3],[4,5,6],[7,8,9],[10,11,12]])\n",
    "print(matrix)"
   ]
  },
  {
   "cell_type": "markdown",
   "id": "9f4aa2e7-47ea-4724-8ae9-2da3a60e06e2",
   "metadata": {},
   "source": [
    "And you can query the shape of the numpy object using:"
   ]
  },
  {
   "cell_type": "code",
   "execution_count": 78,
   "id": "4304d9c1-0854-4c15-bfb9-4ce0c5580b53",
   "metadata": {},
   "outputs": [
    {
     "data": {
      "text/plain": [
       "(4, 3)"
      ]
     },
     "execution_count": 78,
     "metadata": {},
     "output_type": "execute_result"
    }
   ],
   "source": [
    "matrix.shape"
   ]
  },
  {
   "cell_type": "markdown",
   "id": "c101f821-5637-4f31-a522-a6781e6057aa",
   "metadata": {},
   "source": [
    "Some exercise on numpy:\n",
    "https://pynative.com/python-numpy-exercise/"
   ]
  },
  {
   "cell_type": "code",
   "execution_count": null,
   "id": "2ff36c67-1d70-4c74-92a9-29164cf00f23",
   "metadata": {},
   "outputs": [],
   "source": []
  }
 ],
 "metadata": {
  "kernelspec": {
   "display_name": "Python 3 (ipykernel)",
   "language": "python",
   "name": "python3"
  },
  "language_info": {
   "codemirror_mode": {
    "name": "ipython",
    "version": 3
   },
   "file_extension": ".py",
   "mimetype": "text/x-python",
   "name": "python",
   "nbconvert_exporter": "python",
   "pygments_lexer": "ipython3",
   "version": "3.12.5"
  }
 },
 "nbformat": 4,
 "nbformat_minor": 5
}
