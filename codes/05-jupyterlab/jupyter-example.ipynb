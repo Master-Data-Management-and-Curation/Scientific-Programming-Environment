{
 "cells": [
  {
   "cell_type": "markdown",
   "id": "345cd7ef-7caf-4021-865d-976d4e63e689",
   "metadata": {},
   "source": [
    "# Python hands-on\n",
    "\n",
    "## **00 - Variables**\n",
    "\n",
    "Explore how Python variables behave. Perform sums using the following types of variables and print the result for each:\n",
    "\n",
    "1. Sum two **integers**.\n",
    "2. Sum two **decimal numbers** (floats).\n",
    "3. Sum an **integer** and a **decimal number**.\n",
    "4. Try summing two **characters** (single characters, like `'a'` and `'b'`).\n",
    "5. Concatenate (sum) two **strings**.\n",
    "6. Concatenate (sum) two **lists**.\n",
    "7. Sum two **booleans** (`True/False`)."
   ]
  },
  {
   "cell_type": "code",
   "execution_count": 1,
   "id": "0e8c41bf-9e38-4710-8dfe-bfe3f13e8029",
   "metadata": {},
   "outputs": [
    {
     "name": "stdout",
     "output_type": "stream",
     "text": [
      "3\n"
     ]
    }
   ],
   "source": [
    "# Example of point 1.\n",
    "x=1\n",
    "y=2\n",
    "z=x+y\n",
    "print(f\"{z}\")"
   ]
  },
  {
   "cell_type": "markdown",
   "id": "c0da5857-c7de-4188-ad6c-5629280716bc",
   "metadata": {},
   "source": [
    "## **01 - If Statements**\n",
    "\n",
    "Write code to check if two variables of the same type are equal, using an if statement. Perform the following checks:\n",
    "\n",
    "- Check if two **integers** are equal.\n",
    "- Check if two **decimal numbers** are equal.\n",
    "- Check if two **strings** are equal.\n",
    "- Check if two **characters** are equal.\n",
    "\n",
    "For each check, if the variables are equal, print a message using an **f-string** that says they are equal and also print their value."
   ]
  },
  {
   "cell_type": "code",
   "execution_count": 3,
   "id": "0983b2d7-9907-4f0f-8410-ec95d330c83b",
   "metadata": {},
   "outputs": [],
   "source": [
    "a=1\n",
    "b=2\n",
    "if a==b:\n",
    "    print(f\"a and b are equal\\n value of {a=}, value of {b=}\")\n"
   ]
  },
  {
   "cell_type": "code",
   "execution_count": 4,
   "id": "912b0498-75bf-4d3f-a8aa-978d0894de49",
   "metadata": {},
   "outputs": [
    {
     "name": "stdout",
     "output_type": "stream",
     "text": [
      "a and b are equal\n",
      " value of a=2, value of b=2\n"
     ]
    }
   ],
   "source": [
    "a=2\n",
    "b=2\n",
    "if a==b:\n",
    "    print(f\"a and b are equal\\n value of {a=}, value of {b=}\")"
   ]
  },
  {
   "cell_type": "markdown",
   "id": "75d1959f-ec29-465a-9a37-b14fc9dba4a4",
   "metadata": {},
   "source": [
    "## **02 - If, Else, and Elif Statements**\n",
    "\n",
    "Given two integer values, `x` and `y`, write code that:\n",
    "\n",
    "- Checks if `x` is **greater than**, **equal to**, or **less than** `y`.\n",
    "- Print a corresponding message for each case using an **f-string** to print the values."
   ]
  },
  {
   "cell_type": "code",
   "execution_count": null,
   "id": "ddc66513-d1f1-478c-89a2-6b7ca686985e",
   "metadata": {},
   "outputs": [],
   "source": [
    "# implement here"
   ]
  },
  {
   "cell_type": "markdown",
   "id": "d974095c-9479-4af9-ac36-4774c95277da",
   "metadata": {},
   "source": [
    "## **03 - Loops**\n",
    "\n",
    "1. Given four integer variables, `x`, `y`, `z`, and `k`, calculate their **average** and print it.\n",
    "\n",
    "2. Now, use a **list** of 8 elements and calculate their average.\n",
    "   - **Hint**: Use the subscript operator `[]` to access list elements directly (no loop).\n",
    "\n",
    "3. Use a **for loop** and the `range()` function to calculate the average of the list.\n",
    "\n",
    "4. Use a **while loop** to calculate the average of the same list.\n",
    "\n",
    "5. After calculating the overall average, separately calculate:\n",
    "   - The average of **even numbers**.\n",
    "   - The average of **odd numbers**.\n",
    "\n",
    "Print all averages using an **f-string**."
   ]
  },
  {
   "cell_type": "code",
   "execution_count": 5,
   "id": "36b49385-bf57-4f51-aa68-f9949dac99e3",
   "metadata": {},
   "outputs": [],
   "source": [
    "# implement 1. here\n",
    "x=1\n",
    "y=3\n",
    "z=12\n",
    "k=99"
   ]
  },
  {
   "cell_type": "code",
   "execution_count": null,
   "id": "f56c9e55-e1f4-4aa5-940c-ab0136a90d81",
   "metadata": {},
   "outputs": [],
   "source": [
    "# implement 2. here\n",
    "numbers=[1,2,3,4,10,20,30,40]"
   ]
  },
  {
   "cell_type": "code",
   "execution_count": null,
   "id": "8e1733b4-68da-4a42-bd85-62ff9b8257df",
   "metadata": {},
   "outputs": [],
   "source": [
    "#implement 3. here\n",
    "numbers=[1,2,3,4,10,20,30,40]"
   ]
  },
  {
   "cell_type": "code",
   "execution_count": null,
   "id": "85e98882-d8c8-4479-8677-d7d3bf155942",
   "metadata": {},
   "outputs": [],
   "source": [
    "#implement 4. here\n",
    "numbers=[1,2,3,4,10,20,30,40]"
   ]
  },
  {
   "cell_type": "code",
   "execution_count": null,
   "id": "505a9478-92e2-44fe-ae2b-1ac093e1b205",
   "metadata": {},
   "outputs": [],
   "source": [
    "#impement 5. here\n",
    "numbers=[1,2,3,4,10,20,30,40]"
   ]
  },
  {
   "cell_type": "markdown",
   "id": "83671d51-1006-42f0-8359-b5f81aa52e94",
   "metadata": {},
   "source": [
    "## **04 - Functions**\n",
    "\n",
    "1. To avoid duplicating code from sections **00 - Variables** and **01 - If Statements**, write two functions:\n",
    "   - `sum_values()`: A function that performs the sums in section 00.\n",
    "   - `check_equality()`: A function that checks equality between two values, like in section 01.\n",
    "    Then rewrite the cells of section **00 - Variables** using the functions implemented above.\n",
    "\n",
    "2. Write functions for each method of calculating the average from section 03:\n",
    "   - Using 4 different variables\n",
    "   - Using direct access with the operator `[]`.\n",
    "   - Using a **for loop** and the function `range`.\n",
    "   - Using a **for loop** without using the function `range`.\n",
    "   - Using a **while loop**.\n",
    "   - Separately calculate the average of even and odd numbers, printing out the result with an `f-string`.\n",
    "\n",
    "4. Write a function that calculates **variance** and **mode** for a list of numbers. Then, write a combined function that calculates the **mean**, **variance**, and **mode** of a list."
   ]
  },
  {
   "cell_type": "code",
   "execution_count": null,
   "id": "426076a6-1cfe-4d27-a377-edda35b7bb3f",
   "metadata": {},
   "outputs": [],
   "source": [
    "# implement 1. here\n",
    "def sum_values(x,y):\n",
    "    pass\n",
    "    return\n",
    "def check_equality(x,y):\n",
    "    pass\n",
    "    return\n"
   ]
  },
  {
   "cell_type": "code",
   "execution_count": null,
   "id": "a993abd7-6472-43ea-bd2e-2a5d1b836b9e",
   "metadata": {},
   "outputs": [],
   "source": [
    "# rewrite the section 00-variables here using the function above\n",
    "print(sum_values(1,2))\n",
    "print(sum_values(1.5,3.3))\n",
    "print(sum_values('a','b'))\n",
    "#...\n",
    "check_equality(1,2)\n",
    "#..."
   ]
  },
  {
   "cell_type": "code",
   "execution_count": null,
   "id": "75134065-0ccb-47bd-8bf0-2e87a52f52ca",
   "metadata": {},
   "outputs": [],
   "source": [
    "# implement 2. here\n",
    "def mean_1(x,y,x,k):\n",
    "    #calcuate the mean using 4 variables\n",
    "    pass\n",
    "    return\n",
    "    \n",
    "def mean_2(numbers):\n",
    "    #calculate the mean using direct acces to the list elements\n",
    "    pass\n",
    "    return\n",
    "\n",
    "def mean_3(numbers):\n",
    "    #calculate the mean using a for loop and the range function\n",
    "    pass\n",
    "    return \n",
    "    \n",
    "def mean_4(numbers):\n",
    "    #calculate the mean using a for loop and no range function\n",
    "    pass\n",
    "    return\n",
    "    \n",
    "def mean_5(numbers):\n",
    "    #calculate the mean using a while loop\n",
    "    pass\n",
    "    return\n",
    "def mean_odd_even(numbers):\n",
    "    pass\n",
    "    return\n",
    "\n",
    "# how to use\n",
    "result=mean_1(1,2,3,4)\n",
    "print(f\"The result is {result}\")\n",
    "result=mean_2([1,2,3,4])\n",
    "print(f\"The result is {result}\")"
   ]
  },
  {
   "cell_type": "markdown",
   "id": "3b1534ad-0b59-4c96-8912-99f44fdeb263",
   "metadata": {},
   "source": [
    "## **05 - Homework**\n",
    "\n",
    "### Task 1: Find Minimum and Maximum Without Built-in Functions\n",
    "\n",
    "- Given a list of numbers, write code to **find the maximum and minimum values** using a loop, without using Python's built-in functions like `min()` or `max()`.\n",
    "- Print the maximum and minimum values to the standard output.\n",
    "- Next, implement two functions:\n",
    "  - `mymin()`: A function that returns the minimum value from a list.\n",
    "  - `mymax()`: A function that returns the maximum value from a list.\n",
    "\n",
    "Both functions should take a list as input."
   ]
  },
  {
   "cell_type": "code",
   "execution_count": null,
   "id": "16b6474f-c7ce-4186-bb87-a868e339c450",
   "metadata": {},
   "outputs": [],
   "source": [
    "# implement the program here\n",
    "a=[1,2,3,4]\n",
    "# find the max and the min, implement below the algorithm"
   ]
  },
  {
   "cell_type": "code",
   "execution_count": null,
   "id": "86920e8c-534e-47c1-a576-39da7e8e9a74",
   "metadata": {},
   "outputs": [],
   "source": [
    "def mymin():\n",
    "    pass\n",
    "    return\n",
    "def mymax():\n",
    "    pass\n",
    "    return\n",
    "    \n",
    "print(mymin([1,2,3,4,-5,-3,99]))\n",
    "print(mymax([1,2,3,4,-5,-3,99]))"
   ]
  },
  {
   "cell_type": "markdown",
   "id": "b3506f37-021a-4814-8e1a-dae74bfbd81e",
   "metadata": {},
   "source": [
    "### Task 2: Scalar Product of Two Lists\n",
    "\n",
    "- Given two lists of numbers with equal length, implement the **scalar product** (dot product) of the lists.\n",
    "- Write a function that takes the two lists as input and returns the scalar product as the result.\n"
   ]
  },
  {
   "cell_type": "code",
   "execution_count": null,
   "id": "45df3e6c-ecfa-401c-9b63-65fe653367c4",
   "metadata": {},
   "outputs": [],
   "source": [
    "#implement scalar product here\n",
    "\n",
    "def scalar_product(v1,v2):\n",
    "    pass\n",
    "    return\n",
    "scalar_product()"
   ]
  },
  {
   "cell_type": "markdown",
   "id": "f86b5f74-4278-4d27-aae3-023659ad042c",
   "metadata": {},
   "source": [
    "### Task 3: L2 Norm of a List\n",
    "\n",
    "- Given a list of numbers, write a function that computes and returns the **L2 norm** of the list.\n"
   ]
  },
  {
   "cell_type": "markdown",
   "id": "e5359033-f11a-43f3-807c-61802816b287",
   "metadata": {},
   "source": [
    "\n",
    "### Task 4: p-Norm of a List\n",
    "\n",
    "- Given a list of numbers, write a function that calculates and returns the **p-norm** of the list. The parameter `p` should be passed to the function."
   ]
  },
  {
   "cell_type": "code",
   "execution_count": null,
   "id": "b5444d30-197b-4be0-87ad-184c4cc1ee0c",
   "metadata": {},
   "outputs": [],
   "source": []
  }
 ],
 "metadata": {
  "kernelspec": {
   "display_name": "Python 3 (ipykernel)",
   "language": "python",
   "name": "python3"
  },
  "language_info": {
   "codemirror_mode": {
    "name": "ipython",
    "version": 3
   },
   "file_extension": ".py",
   "mimetype": "text/x-python",
   "name": "python",
   "nbconvert_exporter": "python",
   "pygments_lexer": "ipython3",
   "version": "3.12.5"
  }
 },
 "nbformat": 4,
 "nbformat_minor": 5
}
